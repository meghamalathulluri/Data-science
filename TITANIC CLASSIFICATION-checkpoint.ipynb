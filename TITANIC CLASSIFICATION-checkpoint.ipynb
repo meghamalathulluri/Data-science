{
 "cells": [
  {
   "cell_type": "markdown",
   "id": "a3aa64c9",
   "metadata": {},
   "source": [
    "**IMPORTING LIBRARIES**"
   ]
  },
  {
   "cell_type": "code",
   "execution_count": 1,
   "id": "e1ae2c77",
   "metadata": {},
   "outputs": [],
   "source": [
    "import pandas as pd\n",
    "import numpy as np\n",
    "import matplotlib.pyplot as plt;\n",
    "import seaborn as sns\n",
    "%matplotlib inline"
   ]
  },
  {
   "cell_type": "markdown",
   "id": "6a621f69",
   "metadata": {},
   "source": [
    "**IMPORTING DATA FOR TRAINING**"
   ]
  },
  {
   "cell_type": "code",
   "execution_count": 2,
   "id": "f345f984",
   "metadata": {},
   "outputs": [
    {
     "name": "stdout",
     "output_type": "stream",
     "text": [
      "   PassengerId  Survived  Pclass                                      Name  \\\n",
      "0          887         0       2                     Montvila, Rev. Juozas   \n",
      "1          888         1       1              Graham, Miss. Margaret Edith   \n",
      "2          889         0       3  Johnston, Miss. Catherine Helen \"Carrie\"   \n",
      "3          890         1       1                     Behr, Mr. Karl Howell   \n",
      "4          887         0       3                       Dooley, Mr. Patrick   \n",
      "\n",
      "      Sex   Age  SibSp  Parch      Ticket   Fare Cabin Embarked  Unnamed: 12  \n",
      "0    male  27.0      0      0      211536  13.00   NaN        S          NaN  \n",
      "1  female  19.0      0      0      112053  30.00   B42        S          NaN  \n",
      "2  female   NaN      1      2  W./C. 6607  23.45   NaN        S          NaN  \n",
      "3    male  26.0      0      0      111369  30.00  C148        C          NaN  \n",
      "4    male  32.0      0      0      370376   7.75   NaN        Q          NaN  \n"
     ]
    }
   ],
   "source": [
    "train = pd.read_csv('titanic.csv')\n",
    "print(train)"
   ]
  },
  {
   "cell_type": "code",
   "execution_count": null,
   "id": "2ee4c8f2",
   "metadata": {},
   "outputs": [],
   "source": []
  }
 ],
 "metadata": {
  "kernelspec": {
   "display_name": "Python 3 (ipykernel)",
   "language": "python",
   "name": "python3"
  },
  "language_info": {
   "codemirror_mode": {
    "name": "ipython",
    "version": 3
   },
   "file_extension": ".py",
   "mimetype": "text/x-python",
   "name": "python",
   "nbconvert_exporter": "python",
   "pygments_lexer": "ipython3",
   "version": "3.9.7"
  }
 },
 "nbformat": 4,
 "nbformat_minor": 5
}
